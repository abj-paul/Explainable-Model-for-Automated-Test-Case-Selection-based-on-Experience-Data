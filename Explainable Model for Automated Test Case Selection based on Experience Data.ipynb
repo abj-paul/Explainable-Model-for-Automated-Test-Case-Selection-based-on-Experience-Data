{
 "cells": [
  {
   "cell_type": "code",
   "execution_count": 3,
   "id": "76afbb4f-92c2-4631-b724-221745d993d6",
   "metadata": {},
   "outputs": [],
   "source": [
    "experience_data = {\n",
    "    \"Usually testers don't check syncing with multiple accounts much\" : \"High Priority\",\n",
    "    \"Usually testers don't test long time wait checks very much\" : \"Medium Priority\",\n",
    "    \"Testers test obivous feature too much\" : \"low priority\",\n",
    "    \"Testers often overlook accessibility testing\": \"High Priority\",\n",
    "    \"Security testing is frequently underestimated by testers\": \"Medium Priority\",\n",
    "    \"Exploratory testing is not given enough emphasis\": \"Medium Priority\",\n",
    "    \"Cross-browser testing is sometimes neglected\": \"Low Priority\",\n",
    "    \"Load testing is often skipped in the testing process\": \"High Priority\",\n",
    "    \"Mobile app testing is not always thorough\": \"Medium Priority\",\n",
    "    \"Integration testing is sometimes underestimated\": \"Low Priority\",\n",
    "    \"Usability testing is occasionally overlooked\": \"Medium Priority\",\n",
    "    \"Edge cases are not always covered in testing scenarios\": \"High Priority\",\n",
    "    \"Automated testing is not implemented effectively in some projects\": \"High Priority\"\n",
    "}"
   ]
  },
  {
   "cell_type": "code",
   "execution_count": 4,
   "id": "70406bbe-78a2-4449-a53f-c828ed9609e3",
   "metadata": {},
   "outputs": [],
   "source": [
    "test_cases = {\n",
    "    \"TID1\": \"Sync microsoft account\",\n",
    "    \"TID2\": \"Sync Google account\",\n",
    "    \"TID3\": \"Wait 30min and see if it hangs\",\n",
    "    \"TID4\": \"Test pen tool. Pen tool is a obvious feature.\",\n",
    "    \"TID5\": \"Check login functionality with invalid credentials\",\n",
    "    \"TID6\": \"Verify password reset functionality\",\n",
    "    \"TID7\": \"Test in different browsers (Chrome, Firefox, Safari)\",\n",
    "    \"TID8\": \"Validate file upload functionality\",\n",
    "    \"TID9\": \"Perform boundary testing on input fields\",\n",
    "    \"TID10\": \"Verify the application's response to network interruptions\",\n",
    "    \"TID11\": \"Check for proper handling of special characters in input\",\n",
    "    \"TID12\": \"Test user authentication across multiple devices\",\n",
    "    \"TID13\": \"Validate the application's behavior with low network bandwidth\",\n",
    "    \"TID14\": \"Verify the functionality of the search feature\",\n",
    "    \"TID15\": \"Test the application's compatibility with various screen resolutions\",\n",
    "}\n"
   ]
  },
  {
   "cell_type": "code",
   "execution_count": 5,
   "id": "75470942-a22d-48a4-8156-69ae1f777255",
   "metadata": {},
   "outputs": [
    {
     "data": {
      "text/html": [
       "<div>\n",
       "<style scoped>\n",
       "    .dataframe tbody tr th:only-of-type {\n",
       "        vertical-align: middle;\n",
       "    }\n",
       "\n",
       "    .dataframe tbody tr th {\n",
       "        vertical-align: top;\n",
       "    }\n",
       "\n",
       "    .dataframe thead th {\n",
       "        text-align: right;\n",
       "    }\n",
       "</style>\n",
       "<table border=\"1\" class=\"dataframe\">\n",
       "  <thead>\n",
       "    <tr style=\"text-align: right;\">\n",
       "      <th></th>\n",
       "      <th>Sentence</th>\n",
       "      <th>Priority</th>\n",
       "    </tr>\n",
       "  </thead>\n",
       "  <tbody>\n",
       "    <tr>\n",
       "      <th>0</th>\n",
       "      <td>Usually testers don't check syncing with multi...</td>\n",
       "      <td>High Priority</td>\n",
       "    </tr>\n",
       "    <tr>\n",
       "      <th>1</th>\n",
       "      <td>Usually testers don't test long time wait chec...</td>\n",
       "      <td>Medium Priority</td>\n",
       "    </tr>\n",
       "    <tr>\n",
       "      <th>2</th>\n",
       "      <td>Testers test obivous feature too much</td>\n",
       "      <td>low priority</td>\n",
       "    </tr>\n",
       "    <tr>\n",
       "      <th>3</th>\n",
       "      <td>Testers often overlook accessibility testing</td>\n",
       "      <td>High Priority</td>\n",
       "    </tr>\n",
       "    <tr>\n",
       "      <th>4</th>\n",
       "      <td>Security testing is frequently underestimated ...</td>\n",
       "      <td>Medium Priority</td>\n",
       "    </tr>\n",
       "    <tr>\n",
       "      <th>5</th>\n",
       "      <td>Exploratory testing is not given enough emphasis</td>\n",
       "      <td>Medium Priority</td>\n",
       "    </tr>\n",
       "    <tr>\n",
       "      <th>6</th>\n",
       "      <td>Cross-browser testing is sometimes neglected</td>\n",
       "      <td>Low Priority</td>\n",
       "    </tr>\n",
       "    <tr>\n",
       "      <th>7</th>\n",
       "      <td>Load testing is often skipped in the testing p...</td>\n",
       "      <td>High Priority</td>\n",
       "    </tr>\n",
       "    <tr>\n",
       "      <th>8</th>\n",
       "      <td>Mobile app testing is not always thorough</td>\n",
       "      <td>Medium Priority</td>\n",
       "    </tr>\n",
       "    <tr>\n",
       "      <th>9</th>\n",
       "      <td>Integration testing is sometimes underestimated</td>\n",
       "      <td>Low Priority</td>\n",
       "    </tr>\n",
       "    <tr>\n",
       "      <th>10</th>\n",
       "      <td>Usability testing is occasionally overlooked</td>\n",
       "      <td>Medium Priority</td>\n",
       "    </tr>\n",
       "    <tr>\n",
       "      <th>11</th>\n",
       "      <td>Edge cases are not always covered in testing s...</td>\n",
       "      <td>High Priority</td>\n",
       "    </tr>\n",
       "    <tr>\n",
       "      <th>12</th>\n",
       "      <td>Automated testing is not implemented effective...</td>\n",
       "      <td>High Priority</td>\n",
       "    </tr>\n",
       "  </tbody>\n",
       "</table>\n",
       "</div>"
      ],
      "text/plain": [
       "                                             Sentence         Priority\n",
       "0   Usually testers don't check syncing with multi...    High Priority\n",
       "1   Usually testers don't test long time wait chec...  Medium Priority\n",
       "2               Testers test obivous feature too much     low priority\n",
       "3        Testers often overlook accessibility testing    High Priority\n",
       "4   Security testing is frequently underestimated ...  Medium Priority\n",
       "5    Exploratory testing is not given enough emphasis  Medium Priority\n",
       "6        Cross-browser testing is sometimes neglected     Low Priority\n",
       "7   Load testing is often skipped in the testing p...    High Priority\n",
       "8           Mobile app testing is not always thorough  Medium Priority\n",
       "9     Integration testing is sometimes underestimated     Low Priority\n",
       "10       Usability testing is occasionally overlooked  Medium Priority\n",
       "11  Edge cases are not always covered in testing s...    High Priority\n",
       "12  Automated testing is not implemented effective...    High Priority"
      ]
     },
     "execution_count": 5,
     "metadata": {},
     "output_type": "execute_result"
    }
   ],
   "source": [
    "import pandas as pd\n",
    "\n",
    "experience_dataset = pd.DataFrame(list(experience_data.items()), columns=['Sentence', 'Priority'])\n",
    "experience_dataset"
   ]
  },
  {
   "cell_type": "markdown",
   "id": "d6cd51dc-1724-4aa2-9cbc-6d9d76ff1d06",
   "metadata": {},
   "source": [
    "## Training Language Model"
   ]
  },
  {
   "cell_type": "code",
   "execution_count": 6,
   "id": "34e3a695-ead3-496d-b6f3-ec73db2c27cc",
   "metadata": {},
   "outputs": [
    {
     "name": "stdout",
     "output_type": "stream",
     "text": [
      "Defaulting to user installation because normal site-packages is not writeable\n",
      "Requirement already satisfied: gensim in /home/abhijit/.local/lib/python3.10/site-packages (4.3.2)\n",
      "Requirement already satisfied: nltk in /home/abhijit/.local/lib/python3.10/site-packages (3.8.1)\n",
      "Requirement already satisfied: smart-open>=1.8.1 in /home/abhijit/.local/lib/python3.10/site-packages (from gensim) (6.4.0)\n",
      "Requirement already satisfied: numpy>=1.18.5 in /home/abhijit/.local/lib/python3.10/site-packages (from gensim) (1.26.1)\n",
      "Requirement already satisfied: scipy>=1.7.0 in /home/abhijit/.local/lib/python3.10/site-packages (from gensim) (1.11.4)\n",
      "Requirement already satisfied: regex>=2021.8.3 in /home/abhijit/.local/lib/python3.10/site-packages (from nltk) (2023.12.25)\n",
      "Requirement already satisfied: tqdm in /home/abhijit/.local/lib/python3.10/site-packages (from nltk) (4.66.1)\n",
      "Requirement already satisfied: joblib in /home/abhijit/.local/lib/python3.10/site-packages (from nltk) (1.3.2)\n",
      "Requirement already satisfied: click in /home/abhijit/.local/lib/python3.10/site-packages (from nltk) (8.1.7)\n"
     ]
    }
   ],
   "source": [
    "!pip install gensim nltk"
   ]
  },
  {
   "cell_type": "code",
   "execution_count": 7,
   "id": "c081ece8-1e13-4b3b-875f-ea63b176f0de",
   "metadata": {},
   "outputs": [
    {
     "name": "stdout",
     "output_type": "stream",
     "text": [
      "                                             Sentence         Priority  \\\n",
      "0   Usually testers don't check syncing with multi...    High Priority   \n",
      "1   Usually testers don't test long time wait chec...  Medium Priority   \n",
      "2               Testers test obivous feature too much     low priority   \n",
      "3        Testers often overlook accessibility testing    High Priority   \n",
      "4   Security testing is frequently underestimated ...  Medium Priority   \n",
      "5    Exploratory testing is not given enough emphasis  Medium Priority   \n",
      "6        Cross-browser testing is sometimes neglected     Low Priority   \n",
      "7   Load testing is often skipped in the testing p...    High Priority   \n",
      "8           Mobile app testing is not always thorough  Medium Priority   \n",
      "9     Integration testing is sometimes underestimated     Low Priority   \n",
      "10       Usability testing is occasionally overlooked  Medium Priority   \n",
      "11  Edge cases are not always covered in testing s...    High Priority   \n",
      "12  Automated testing is not implemented effective...    High Priority   \n",
      "\n",
      "                                               Vector  \n",
      "0   [-0.13874434, -0.05309879, -0.06640284, 0.0151...  \n",
      "1   [-0.17604342, -0.0674018, -0.080209844, 0.0185...  \n",
      "2   [-0.08191545, -0.033869214, -0.031120986, 0.01...  \n",
      "3   [-0.071489625, -0.030946048, -0.025562845, -0....  \n",
      "4   [-0.09078542, -0.03816639, -0.037448015, 0.011...  \n",
      "5   [-0.096031986, -0.040190008, -0.04652888, 0.00...  \n",
      "6   [-0.07615445, -0.026625639, -0.032539625, 0.00...  \n",
      "7   [-0.12747759, -0.04372061, -0.05130679, 0.0048...  \n",
      "8   [-0.08510146, -0.040472545, -0.03426407, 0.009...  \n",
      "9   [-0.051865, -0.0137130935, -0.01986992, 0.0093...  \n",
      "10  [-0.06813899, -0.03316731, -0.032527104, 0.015...  \n",
      "11  [-0.13746278, -0.06652494, -0.053641595, 0.002...  \n",
      "12  [-0.11479565, -0.054530893, -0.047592353, 0.00...  \n"
     ]
    }
   ],
   "source": [
    "from gensim.models.doc2vec import Doc2Vec, TaggedDocument\n",
    "from nltk.tokenize import word_tokenize\n",
    "import pandas as pd\n",
    "\n",
    "\n",
    "# Convert data to DataFrame\n",
    "experience_dataset = pd.DataFrame(list(experience_data.items()), columns=['Sentence', 'Priority'])\n",
    "\n",
    "# Tokenize sentences\n",
    "tokenized_data = [word_tokenize(sentence.lower()) for sentence in experience_dataset['Sentence']]\n",
    "\n",
    "# Create TaggedDocuments\n",
    "tagged_data = [TaggedDocument(words=words, tags=[str(i)]) for i, words in enumerate(tokenized_data)]\n",
    "\n",
    "# Train Doc2Vec model\n",
    "model = Doc2Vec(vector_size=50, window=2, min_count=1, workers=4, epochs=100)\n",
    "model.build_vocab(tagged_data)\n",
    "model.train(tagged_data, total_examples=model.corpus_count, epochs=model.epochs)\n",
    "\n",
    "# Function to convert a sentence to a vector\n",
    "def sentence_to_vector(sentence):\n",
    "    tokenized_sentence = word_tokenize(sentence.lower())\n",
    "    vector = model.infer_vector(tokenized_sentence)\n",
    "    return vector\n",
    "\n",
    "# Add vectors to the DataFrame\n",
    "experience_dataset['Vector'] = experience_dataset['Sentence'].apply(sentence_to_vector)\n",
    "\n",
    "# Display the DataFrame with vectors\n",
    "print(experience_dataset)\n"
   ]
  },
  {
   "cell_type": "code",
   "execution_count": 8,
   "id": "51b5729c-7a78-496f-ba57-dbf32fb1d4fe",
   "metadata": {},
   "outputs": [],
   "source": [
    "model.save(\"test_experience_doc2vec_model\")"
   ]
  },
  {
   "cell_type": "code",
   "execution_count": 10,
   "id": "831d7df9-9b96-4459-86e2-06879564fa3d",
   "metadata": {},
   "outputs": [],
   "source": [
    "doc_vectors = experience_dataset[\"Priority\"]\n",
    "labels = experience_dataset[\"Vector\"]"
   ]
  },
  {
   "cell_type": "markdown",
   "id": "ac601235-d9bf-47f4-8fd2-5d3c5add859e",
   "metadata": {},
   "source": [
    "## Classification"
   ]
  },
  {
   "cell_type": "code",
   "execution_count": 11,
   "id": "7ca43041-de03-4331-8619-e9ebc9f718e8",
   "metadata": {},
   "outputs": [],
   "source": [
    "from sklearn.model_selection import train_test_split\n",
    "from sklearn.linear_model import LogisticRegression\n",
    "from sklearn.metrics import accuracy_score\n",
    "\n",
    "# Split the data into training and testing sets\n",
    "X_train, X_test, y_train, y_test = train_test_split(doc_vectors, labels, test_size=0.2, random_state=42)"
   ]
  },
  {
   "cell_type": "code",
   "execution_count": 14,
   "id": "f742261d-2fad-45df-a0dc-d00e6aad556b",
   "metadata": {},
   "outputs": [],
   "source": [
    "from sklearn.neighbors import NearestNeighbors\n",
    "import numpy as np\n",
    "\n",
    "def find_relevant_documents_knn(query_sentence, dataset, k=5):\n",
    "    query_vector = sentence_to_vector(query_sentence)\n",
    "    dataset_vectors = np.array(list(experience_dataset['Vector']))\n",
    "    \n",
    "    knn_model = NearestNeighbors(n_neighbors=k, metric='cosine')\n",
    "    knn_model.fit(dataset_vectors)\n",
    "    \n",
    "    _, indices = knn_model.kneighbors([query_vector])\n",
    "    relevant_documents = dataset.iloc[indices[0]]['Sentence'].tolist()\n",
    "    \n",
    "    return relevant_documents"
   ]
  },
  {
   "cell_type": "code",
   "execution_count": 15,
   "id": "dfb83f68-b5d4-49da-b2e8-fd43f4f037d5",
   "metadata": {},
   "outputs": [
    {
     "name": "stdout",
     "output_type": "stream",
     "text": [
      "Query Sentence:\n",
      "Testers often overlook security testing\n",
      "\n",
      "Relevant Documents:\n",
      "1. Usually testers don't test long time wait checks very much\n",
      "2. Usually testers don't check syncing with multiple accounts much\n",
      "3. Load testing is often skipped in the testing process\n"
     ]
    }
   ],
   "source": [
    "query_sentence = \"Testers often overlook security testing\"\n",
    "relevant_documents = find_relevant_documents_knn(query_sentence, experience_dataset, k=3)\n",
    "\n",
    "print(\"Query Sentence:\")\n",
    "print(query_sentence)\n",
    "print(\"\\nRelevant Documents:\")\n",
    "for i, doc in enumerate(relevant_documents):\n",
    "    print(f\"{i + 1}. {doc}\")"
   ]
  },
  {
   "cell_type": "code",
   "execution_count": null,
   "id": "644d8b0e-f253-4e0d-86e4-8db64961b5ed",
   "metadata": {},
   "outputs": [],
   "source": []
  }
 ],
 "metadata": {
  "kernelspec": {
   "display_name": "Python 3 (ipykernel)",
   "language": "python",
   "name": "python3"
  },
  "language_info": {
   "codemirror_mode": {
    "name": "ipython",
    "version": 3
   },
   "file_extension": ".py",
   "mimetype": "text/x-python",
   "name": "python",
   "nbconvert_exporter": "python",
   "pygments_lexer": "ipython3",
   "version": "3.10.12"
  }
 },
 "nbformat": 4,
 "nbformat_minor": 5
}
